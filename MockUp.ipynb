{
 "cells": [
  {
   "cell_type": "code",
   "execution_count": 1,
   "id": "3b025ffd-e97d-41c5-83aa-c4b6b783fcfe",
   "metadata": {},
   "outputs": [],
   "source": [
    "#imports \n",
    "import pandas as pd\n",
    "import torch\n",
    "import transformers\n",
    "from torch.utils.data import Dataset, DataLoader"
   ]
  },
  {
   "cell_type": "code",
   "execution_count": 4,
   "id": "5b362437-3cd2-4ba5-9d4f-d7b3ad4f34ab",
   "metadata": {},
   "outputs": [],
   "source": [
    "from transformers import pipeline\n",
    "classifier = pipeline(\"zero-shot-classification\", model=\"facebook/bart-large-mnli\")"
   ]
  },
  {
   "cell_type": "code",
   "execution_count": 5,
   "id": "4480814b-0005-4fd2-85c4-a2a31027f040",
   "metadata": {},
   "outputs": [
    {
     "data": {
      "text/plain": [
       "{'sequence': 'Do this work for me.',\n",
       " 'labels': ['bee', 'leech', 'ant'],\n",
       " 'scores': [0.42481550574302673, 0.37177881598472595, 0.20340566337108612]}"
      ]
     },
     "execution_count": 5,
     "metadata": {},
     "output_type": "execute_result"
    }
   ],
   "source": [
    "classifier(\n",
    "    \"Do this work for me.\",\n",
    "    candidate_labels=[\"bee\", \"ant\", \"leech\"],\n",
    ")"
   ]
  },
  {
   "cell_type": "code",
   "execution_count": 6,
   "id": "1e1fae3c-53c6-4d07-a0b9-85392955dc74",
   "metadata": {},
   "outputs": [
    {
     "data": {
      "text/plain": [
       "{'sequence': \"Let me handle the data scraping and you can focus on data visualization. It's better to divide up the work.\",\n",
       " 'labels': ['bee', 'leech', 'ant'],\n",
       " 'scores': [0.4375327229499817, 0.43200865387916565, 0.13045862317085266]}"
      ]
     },
     "execution_count": 6,
     "metadata": {},
     "output_type": "execute_result"
    }
   ],
   "source": [
    "classifier(\n",
    "    \"Let me handle the data scraping and you can focus on data visualization. It's better to divide up the work.\",\n",
    "    candidate_labels=[\"bee\", \"ant\", \"leech\"],\n",
    ")"
   ]
  },
  {
   "cell_type": "code",
   "execution_count": null,
   "id": "f4be4f34-5b46-4d8d-b863-607c4e0fe219",
   "metadata": {},
   "outputs": [],
   "source": []
  }
 ],
 "metadata": {
  "kernelspec": {
   "display_name": "Python 3 (ipykernel)",
   "language": "python",
   "name": "python3"
  },
  "language_info": {
   "codemirror_mode": {
    "name": "ipython",
    "version": 3
   },
   "file_extension": ".py",
   "mimetype": "text/x-python",
   "name": "python",
   "nbconvert_exporter": "python",
   "pygments_lexer": "ipython3",
   "version": "3.9.7"
  }
 },
 "nbformat": 4,
 "nbformat_minor": 5
}
